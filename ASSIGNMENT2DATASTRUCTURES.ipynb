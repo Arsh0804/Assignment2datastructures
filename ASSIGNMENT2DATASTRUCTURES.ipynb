{
 "cells": [
  {
   "cell_type": "code",
   "execution_count": null,
   "id": "3416fffd-17e8-4268-9524-2519d132b207",
   "metadata": {},
   "outputs": [],
   "source": [
    "#ASSIGNMENT 2 DATA STRUCTURES"
   ]
  },
  {
   "cell_type": "code",
   "execution_count": 25,
   "id": "1112bb26-f7ad-4d72-8e78-b2575e42cf43",
   "metadata": {},
   "outputs": [
    {
     "name": "stdout",
     "output_type": "stream",
     "text": [
      "Hello\n",
      "Hlo \n"
     ]
    }
   ],
   "source": [
    "#1. Discuss string slicing and provide examples?\n",
    "'''\n",
    "String slicing in Python allows you to extract a specific portion of a string using a range of indices. \n",
    "The basic syntax is string[start:stop:step], where start is the beginning index, stop is the ending index (exclusive), \n",
    "and step determines the interval between elements.\n",
    "'''\n",
    "#Example\n",
    "text = \"Hello, World!\"\n",
    "# Extract \"Hello\"\n",
    "substring = text[0:5]\n",
    "print(substring) #last index is exclusive it will from 0 to 4 only(n-1)\n",
    "#Example\n",
    "step_size= text[0:8:2] #step size 2 is defined i.e. our outpput will have have agap of 2\n",
    "print(step_size) "
   ]
  },
  {
   "cell_type": "code",
   "execution_count": 17,
   "id": "3db00170-6752-443a-a735-536ec61b7bae",
   "metadata": {},
   "outputs": [
    {
     "name": "stdout",
     "output_type": "stream",
     "text": [
      "apple\n",
      "['apple', 'orange', 'cherry']\n",
      "[1, 'hello', 3.14, [5, 6, 7]]\n",
      "[1, 3, 5, 7]\n",
      "[1, 3, 4, 5, 5, 7, 80, 335]\n",
      "[335, 80, 7, 5, 5, 4, 3, 1]\n"
     ]
    }
   ],
   "source": [
    "# 2. Explain the key features of lists in Python?\n",
    "#list in python is a data structure to in which we can store data \n",
    "\n",
    "'''Some key features of lists are \n",
    "1.Ordered Collection\n",
    "Lists preserve the order of elements. Each item has a defined place.'''\n",
    "fruits = [\"apple\", \"banana\", \"cherry\"]\n",
    "print(fruits[0]) \n",
    "''' \n",
    "2.Mutable\n",
    "Data in list can be changed after creation of list . We can modify data in lists\n",
    "'''\n",
    "fruits[1] = \"orange\"\n",
    "print(fruits)  \n",
    "'''\n",
    "3.Heterogeneous Elements\n",
    "Lists can store items of different data types in one collection.\n",
    "'''\n",
    "mixed_list = [1, \"hello\", 3.14, [5, 6, 7]]\n",
    "print(mixed_list)\n",
    "# We have different datatypes stored in one list like integer, string,float etc\n",
    "'''\n",
    "4.Indexing and Slicing\n",
    "We can access and modify parts of the list using indices and slices.This is one of the most usefull feature of lists\n",
    "'''\n",
    "numbers=[1,3,5,7,80,335,5,4]\n",
    "print(numbers[0:4])\n",
    "'''\n",
    "5.Built-in Methods\n",
    "Python lists come with numerous built-in methods like append(), extend(), insert(), remove(), pop(), sort(), and reverse().\n",
    "'''\n",
    "numbers.sort()#sorts all the numbers\n",
    "print(numbers)\n",
    "numbers.reverse()#reverses numbers\n",
    "print(numbers)\n",
    "\n",
    "\n"
   ]
  },
  {
   "cell_type": "code",
   "execution_count": 21,
   "id": "67d35140-769d-4f10-a191-619803e1c262",
   "metadata": {},
   "outputs": [
    {
     "name": "stdout",
     "output_type": "stream",
     "text": [
      "apple\n",
      "cherry\n",
      "['apple', 'orange', 'cherry']\n",
      "['apple', 'cherry']\n",
      "['apple', 'cherry']\n",
      "['apple', 'cherry']\n",
      "banana\n"
     ]
    }
   ],
   "source": [
    "# 3. Describe how to access, modify, and delete elements in a list with examples?\n",
    "'''\n",
    "One of the best features of lists is than it is mutable and we can manuplate data easily\n",
    "1. Accessing Elements\n",
    "You can access list elements using their indices. Indeexing is of two types positive indexing and negative indexing\n",
    "'''\n",
    "fruits = [\"apple\", \"banana\", \"cherry\"]\n",
    "print(fruits[0])  # positive indexing\n",
    "print(fruits[-1])  # negative indexing\n",
    "#data can be accesed by by indexing\n",
    "'''\n",
    "2. Modifying Elements\n",
    "Lists are mutable, meaning you can change their content.\n",
    "'''\n",
    "fruits[1] = \"orange\"\n",
    "print(fruits) \n",
    "'''\n",
    "3. Deletion of data \n",
    "we can delete elements in lists by more than one way . we can use various methondslike del statement, remove(), and pop().\n",
    "1.Deletion statement\n",
    "'''\n",
    "fruits = [\"apple\", \"banana\", \"cherry\"]\n",
    "del fruits[1]\n",
    "print(fruits) \n",
    "'''\n",
    "2. Using remove() Method: Removes the first occurrence of the specified value.\n",
    "'''\n",
    "fruits = [\"apple\", \"banana\", \"cherry\"]\n",
    "fruits.remove(\"banana\")\n",
    "print(fruits)  \n",
    "'''\n",
    "3.Using pop() Method: Removes and returns the element at the specified index.\n",
    "'''\n",
    "fruits = [\"apple\", \"banana\", \"cherry\"]\n",
    "popped_fruit = fruits.pop(1)\n",
    "print(fruits) \n",
    "print(popped_fruit)"
   ]
  },
  {
   "cell_type": "code",
   "execution_count": 33,
   "id": "87d85ef3-9f80-41bb-bc5a-e657b53c21e0",
   "metadata": {},
   "outputs": [
    {
     "name": "stdout",
     "output_type": "stream",
     "text": [
      "1\n",
      "1\n",
      "[10, 2, 3, 'apple', 'banana']\n"
     ]
    }
   ],
   "source": [
    "# 4. Compare and contrast tuples and lists with examples?\n",
    "'''\n",
    "Tuples and lists in Python are similar in that they both store collections of items, but they differ in several key ways.\n",
    "Tuples\n",
    "Definition: Ordered, immutable collections of items.\n",
    "Syntax: Defined using parentheses ( ).\n",
    "Immutability: Once created, their elements cannot be changed.\n",
    "Use less memory\n",
    "No built in methods\n",
    "\n",
    "List\n",
    "Definition: Ordered, mutable collections of items.\n",
    "Syntax: Defined using square brackets [ ].\n",
    "Mutability: Their elements can be modified, added, or removed.\n",
    "Use more memory\n",
    "Built in methods are present \n",
    "'''\n",
    "#Tuples example\n",
    "my_tuple = (1, 2, 3, \"apple\", \"banana\")\n",
    "print(my_tuple[0])\n",
    "\n",
    "# Tuples are immutable\n",
    "# my_tuple[0] = 10 This will throw an error\n",
    "\n",
    "# List examples\n",
    "my_list = [1, 2, 3, \"apple\", \"banana\"]\n",
    "print(my_list[0]) \n",
    "\n",
    "# Lists are mutable\n",
    "my_list[0] = 10\n",
    "print(my_list)  # element at 0 index will be changed to 10\n"
   ]
  },
  {
   "cell_type": "code",
   "execution_count": 60,
   "id": "096aebcc-a6e8-4787-ad55-d424ba4a5544",
   "metadata": {},
   "outputs": [
    {
     "name": "stdout",
     "output_type": "stream",
     "text": [
      "{'apple', 'banana', 'cherry'}\n",
      "{1, 2, 3}\n",
      "{'apple', 'banana', 'dates', 'cherry'}\n",
      "{'apple', 'dates', 'cherry'}\n",
      "{1, 2, 3, 4, 5}\n",
      "{3}\n",
      "{1, 2}\n",
      "True\n",
      "False\n"
     ]
    }
   ],
   "source": [
    "# 5.Describe the key features of sets and provide examples of their use\n",
    "'''\n",
    "Sets in Python are collections that store unordered, unique elements.\n",
    "Key features of list are-\n",
    "1.Unordered Collection\n",
    "Sets don't maintain any order of elements. This means the items may appear in a different order each time you access the set.'''\n",
    "fruits = {\"apple\", \"banana\", \"cherry\"}\n",
    "print(fruits)\n",
    "'''\n",
    "2.Unique Elements\n",
    "Sets automatically eliminate duplicate items, ensuring all elements are unique.'''\n",
    "numbers = {1, 2, 3, 1, 2, 3}\n",
    "print(numbers)  \n",
    "'''\n",
    "3.Mutable\n",
    "Sets can be modified after creation by adding or removing elements.'''\n",
    "fruits.add(\"dates\")\n",
    "print(fruits)  \n",
    "fruits.remove(\"banana\")\n",
    "print(fruits)  \n",
    "'''\n",
    "4.Support Set Operations\n",
    "Sets support mathematical operations like union, intersection, difference, and symmetric difference.'''\n",
    "set_a = {1, 2, 3}\n",
    "set_b = {3, 4, 5}\n",
    "\n",
    "union_set = set_a | set_b\n",
    "print(union_set)  \n",
    "\n",
    "intersection_set = set_a & set_b\n",
    "print(intersection_set) \n",
    "\n",
    "difference_set = set_a - set_b\n",
    "print(difference_set)  \n",
    "#These are all different set operation we can perform\n",
    "'''\n",
    "5.Membership Testing\n",
    "Sets provide fast membership checking, making them ideal for tasks like checking if an item exists in a collection.\n",
    "'''\n",
    "print(\"apple\" in fruits)  #  True\n",
    "print(\"mango\" in fruits)  # False\n",
    "\n"
   ]
  },
  {
   "cell_type": "code",
   "execution_count": 68,
   "id": "c6e030c4-e7df-4e14-b530-c7cdaf261d12",
   "metadata": {},
   "outputs": [
    {
     "name": "stdout",
     "output_type": "stream",
     "text": [
      "Arsh Vaid 21\n",
      "('Monday', 'Tuesday', 'Wednesday', 'Thursday', 'Friday', 'Saturday', 'Sunday')\n",
      "[1, 2, 3, 4, 5]\n",
      "{1, 2, 3, 4, 5}\n",
      "{3}\n",
      "{1, 2}\n",
      "True\n",
      "False\n"
     ]
    }
   ],
   "source": [
    "# 6. Discuss the use cases of tuples and sets in Python programming?\n",
    "'''Tuples and sets each have their own distinct use cases in Python programming, \n",
    "and their unique characteristics make them suitable for different conditions.\n",
    "Use Cases for Tuples-\n",
    "1.Storing Multiple Values\n",
    "Tuples are perfect for storing data of information that shouldn't be changed.'''\n",
    "coordinate = (40.7128, -74.0060)  # New York City coordinates\n",
    "color = (255, 0, 0)  # RGB for red\n",
    "'''\n",
    "2.Unpacking\n",
    "Tuples can be unpacked into separate variables, making code cleaner and more readable.'''\n",
    "person = (\"Arsh\", \"Vaid\", 21)\n",
    "first_name, last_name, age = person\n",
    "print(first_name, last_name, age)  \n",
    "'''\n",
    "3.Immutable Data\n",
    "When you need a collection of items that shouldn't change, use tuples for safety and performance.'''\n",
    "days_of_week = (\"Monday\", \"Tuesday\", \"Wednesday\", \"Thursday\", \"Friday\", \"Saturday\", \"Sunday\")\n",
    "print(days_of_week)\n",
    "\n",
    "#Use case of Sets\n",
    "'''\n",
    "1.Eliminating Duplicates\n",
    "Sets automatically remove duplicates, making them ideal for tasks like cleaning up lists of items.\n",
    "'''\n",
    "my_list = [1, 2, 2, 3, 4, 4, 5]\n",
    "unique_items = list(set(my_list))\n",
    "print(unique_items)  \n",
    "'''\n",
    "2.Support Set Operations\n",
    "Sets support mathematical operations like union, intersection, difference, and symmetric difference.'''\n",
    "set_a = {1, 2, 3}\n",
    "set_b = {3, 4, 5}\n",
    "\n",
    "union_set = set_a | set_b\n",
    "print(union_set)  \n",
    "\n",
    "intersection_set = set_a & set_b\n",
    "print(intersection_set) \n",
    "\n",
    "difference_set = set_a - set_b\n",
    "print(difference_set)  \n",
    "#These are all different set operation we can perform\n",
    "'''\n",
    "3.Membership Testing\n",
    "Sets provide fast membership checking, making them ideal for tasks like checking if an item exists in a collection.\n",
    "'''\n",
    "print(\"apple\" in fruits)  #  True\n",
    "print(\"mango\" in fruits)  # False\n"
   ]
  },
  {
   "cell_type": "code",
   "execution_count": 70,
   "id": "8ca94a38-e8d4-4c64-9b47-93c149dac571",
   "metadata": {},
   "outputs": [
    {
     "name": "stdout",
     "output_type": "stream",
     "text": [
      "{'apple': 1, 'banana': 2, 'cherry': 3}\n",
      "{'apple': 1, 'banana': 5, 'cherry': 3}\n",
      "{'banana': 5, 'cherry': 3}\n",
      "{'banana': 5}\n",
      "3\n"
     ]
    }
   ],
   "source": [
    "# 7. Describe how to add, modify, and delete items in a dictionary with examples?\n",
    "'''\n",
    "Dictionaries in Python are collections of key-value pairs.\n",
    "They allow you to store and retrieve data efficiently. Here’s how to add, modify, and delete items in a dictionary, with examples:\n",
    "Adding Items-\n",
    "You can add items to a dictionary by specifying a new key and assigning it a value.\n",
    "'''\n",
    "my_dict = {\"apple\": 1, \"banana\": 2}\n",
    "# Add a new item\n",
    "my_dict[\"cherry\"] = 3\n",
    "print(my_dict)  #new item is added\n",
    "'''\n",
    "Modifying Items\n",
    "You can modify existing items by accessing the key and assigning it a new value.'''\n",
    "# Modify the value associated with the key 'banana'\n",
    "my_dict[\"banana\"] = 5\n",
    "print(my_dict)  #value of banana will change\n",
    "'''\n",
    "Deleting Items\n",
    "We can delete items using the del statement or the pop() method.'''\n",
    "# Delete an item by key\n",
    "del my_dict[\"apple\"]\n",
    "print(my_dict) \n",
    "\n",
    "# Remove the item with key 'cherry' and get its value\n",
    "value = my_dict.pop(\"cherry\")\n",
    "print(my_dict) \n",
    "print(value)    \n",
    "\n"
   ]
  },
  {
   "cell_type": "code",
   "execution_count": 78,
   "id": "bc402225-cf51-42c9-b16c-d454fa7f7b4f",
   "metadata": {},
   "outputs": [
    {
     "name": "stdout",
     "output_type": "stream",
     "text": [
      "Arsh\n",
      "New York\n"
     ]
    }
   ],
   "source": [
    "# 8. Discuss the importance of dictionary keys being immutable and provide examples?\n",
    "'''\n",
    "In Python, dictionary keys must be immutable. This is crucial for several reasons:\n",
    "\n",
    "Importance of Immutability\n",
    "1.Hashability:\n",
    "Dictionary keys must be hashable, meaning they can be converted into a unique hash value. Hashing allows for fast data retrieval using keys.\n",
    "Immutability ensures that the hash value remains constant throughout the key's lifetime. Mutable objects can change, causing their hash values to change, which would lead to inconsistencies in the dictionary.\n",
    "2.Data Integrity:\n",
    "Using immutable keys maintains the integrity of the data structure. If keys could be modified, it would be difficult to track the location and identity of values, leading to data corruption and unpredictable behavior.\n",
    "3.Consistency:\n",
    "Immutability guarantees that keys remain consistent, providing stable and reliable access to dictionary values\n",
    "\n",
    "Examples of Immutable Types as Dictionary Keys\n",
    "'''\n",
    "#1. Strings as Keys:\n",
    "\n",
    "person = {\"name\": \"Arsh\", \"age\": 21}\n",
    "print(person[\"name\"])  \n",
    "\n",
    "#2. Tuples as Keys: Tuples are immutable, making them suitable as dictionary keys, especially when storing complex data.\n",
    "coordinates = {(40.7128, -74.0060): \"New York\", (34.0522, -118.2437): \"Los Angeles\"}\n",
    "print(coordinates[(40.7128, -74.0060)])\n",
    "\n",
    "#Examples of Mutable Types that Cannot Be Dictionary Keys\n",
    "# 1. Lists as Keys: Lists are mutable and therefore cannot be used as dictionary keys.\n",
    "# This would raise a TypeError\n",
    "# my_dict = {[1, 2, 3]: \"value\"}\n",
    "# print(my_dict)\n",
    "\n",
    "# 2. Sets as Keys: Sets are also mutable and cannot be used as dictionary keys.\n",
    "# This would raise a TypeError\n",
    "# my_dict = {{1, 2, 3}: \"value\"}\n",
    "# print(my_dict)\n",
    "\n",
    "#Using immutable keys in dictionaries ensures reliable and efficient data access, maintaining data integrity and consistency.\n",
    "#Understanding the importance of immutability helps in designing efficeint and error-free programs. "
   ]
  },
  {
   "cell_type": "code",
   "execution_count": null,
   "id": "a8cae05c-b94c-4e8b-9786-26c5313afb73",
   "metadata": {},
   "outputs": [],
   "source": []
  }
 ],
 "metadata": {
  "kernelspec": {
   "display_name": "Python 3 (ipykernel)",
   "language": "python",
   "name": "python3"
  },
  "language_info": {
   "codemirror_mode": {
    "name": "ipython",
    "version": 3
   },
   "file_extension": ".py",
   "mimetype": "text/x-python",
   "name": "python",
   "nbconvert_exporter": "python",
   "pygments_lexer": "ipython3",
   "version": "3.12.4"
  }
 },
 "nbformat": 4,
 "nbformat_minor": 5
}
